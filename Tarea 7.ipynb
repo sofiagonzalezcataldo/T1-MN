{
 "cells": [
  {
   "cell_type": "markdown",
   "id": "d5a726f8-c467-4079-ac9a-7dd84b64fa9b",
   "metadata": {},
   "source": [
    "# Tarea 7\n",
    "### Sofía González Cataldo RUT 20.921.915-8"
   ]
  },
  {
   "cell_type": "markdown",
   "id": "1e7d8e84-3d05-405c-917a-3b2cf2d248b6",
   "metadata": {},
   "source": [
    "Queremos encontrar los ceros de la función $f(x) = \\sinh(x) - \\cos(x)$. Para lograrlo, primero use algunas iteraciones del método de bisección y así obtener un punto inicial para el método de Newton."
   ]
  },
  {
   "cell_type": "code",
   "execution_count": 9,
   "id": "4b8d0397-7300-48bf-8e9e-45d88b24c7f5",
   "metadata": {},
   "outputs": [],
   "source": [
    "def biseccion(f, a, b, epsilon, n=100000):\n",
    "    '''\n",
    "    FUNCIÓN BISECCIÓN:\n",
    "    Realiza un algoritmo para encontrar el cero de una función, a través\n",
    "    del método de bisección. \n",
    "    \n",
    "    PARÁMETROS:\n",
    "    f: función a la que se le desea encontrar el cero.\n",
    "    a: extremo inferior del intervalo cerca de donde la función se hace cero.\n",
    "    b: extremo superior del intervalo cerca de donde la función se hace cero.\n",
    "    epsilon: tolerancia, que tan preciso queremos que sea el resultado.\n",
    "    \n",
    "    '''\n",
    "    pp = a\n",
    "    for i in range(n):\n",
    "        p = a + (b - a)/2\n",
    "        if abs(pp - p)/abs(p) < epsilon: \n",
    "        # con esta condición aseguramos el éxito de haber hayado el cero\n",
    "        # de la función.\n",
    "            print(f'Cero en {p}, encontrado en {i+1} iteraciones')\n",
    "            return p\n",
    "        elif f(p)*f(a) > 0: # condición del método de bisección.\n",
    "            a = p\n",
    "        elif f(p)*f(a) < 0: # segunda condición del método.\n",
    "            b = p\n",
    "        else:\n",
    "            print(f'No se encontró el cero después de {n} iteraciones')\n",
    "        pp = p # modificamos el valor para luego evaluarlo en la condición de éxito"
   ]
  },
  {
   "cell_type": "code",
   "execution_count": 10,
   "id": "cd99613c-e1d3-4ade-8429-773429725c80",
   "metadata": {},
   "outputs": [],
   "source": [
    "def newton(f, df, po, epsilon, n=100000):\n",
    "    '''\n",
    "    FUNCIÓN NEWTON:\n",
    "    Realiza un algoritmo para encontrar el cero de una función, a través\n",
    "    del método de Newton.\n",
    "    \n",
    "    PARÁMETROS:\n",
    "    f: función a la que se le desea encontrar el cero.\n",
    "    df: derivada de la función a estudiar.\n",
    "    po: punto inicial, suficientemente cercano al valor real de p donde se \n",
    "        encuentra el cero de la función.\n",
    "    epsilon: tolerancia, precisión para el resultado.\n",
    "    \n",
    "    '''\n",
    "    \n",
    "    for i in range(n):\n",
    "        p = po - f(po)/df(po) # fórmula para el iterable.\n",
    "        if abs(p - po)/abs(p) < epsilon: # condición de éxito.\n",
    "            print(f'Cero en {p}, encontrado en {i+1} iteraciones.')\n",
    "            return p\n",
    "        else:\n",
    "            po = p # modificamos el valor para cada iteración.\n",
    "    print(f'No se encontró el cero luego de {n} iteraciones.')\n"
   ]
  },
  {
   "cell_type": "code",
   "execution_count": 11,
   "id": "fe2e4fcc-a082-43f0-be3f-b09a1cf76d61",
   "metadata": {},
   "outputs": [],
   "source": [
    "def f(x):\n",
    "    '''\n",
    "    Función a la cuál le queremos encontrar el cero a través del\n",
    "    método de bisección y newton.\n",
    "    '''\n",
    "    return np.sinh(x) - np.cos(x)"
   ]
  },
  {
   "cell_type": "code",
   "execution_count": 12,
   "id": "852b93fc-3cc0-4719-9c7f-49cf71c4e656",
   "metadata": {},
   "outputs": [],
   "source": [
    "def df(x):\n",
    "    '''\n",
    "    Derivada de la función definida anteriormente.\n",
    "    Esta nos servirá para la función newton, que la solicita como parámetro.\n",
    "    '''\n",
    "    return np.cosh(x) + np.sin(x)"
   ]
  },
  {
   "cell_type": "code",
   "execution_count": 13,
   "id": "14694d6e-831f-4a1d-8b96-7099dcafbff0",
   "metadata": {},
   "outputs": [],
   "source": [
    "import numpy as np"
   ]
  },
  {
   "cell_type": "code",
   "execution_count": 14,
   "id": "da506f45-f591-4c29-94d7-b38cd68d2824",
   "metadata": {},
   "outputs": [
    {
     "data": {
      "text/plain": [
       "[<matplotlib.lines.Line2D at 0x20066995eb0>]"
      ]
     },
     "execution_count": 14,
     "metadata": {},
     "output_type": "execute_result"
    },
    {
     "data": {
      "image/png": "[encoded data removed]",
      "text/plain": [
       "<Figure size 432x288 with 1 Axes>"
      ]
     },
     "metadata": {
      "needs_background": "light"
     },
     "output_type": "display_data"
    }
   ],
   "source": [
    "import matplotlib.pyplot as plt\n",
    "x = np.linspace(0, 2, 100)\n",
    "plt.plot(x, f(x))"
   ]
  },
  {
   "cell_type": "markdown",
   "id": "2b3ec417-7606-45ad-9839-98597b5ede36",
   "metadata": {},
   "source": [
    "De la gráfica podemos observar que el cero se encuentra cercano al valor x = 0.75"
   ]
  },
  {
   "cell_type": "code",
   "execution_count": 15,
   "id": "49c4cbff-ad80-47df-b020-b54ddbd9c994",
   "metadata": {},
   "outputs": [
    {
     "name": "stdout",
     "output_type": "stream",
     "text": [
      "Cero en 0.7032470703125, encontrado en 13 iteraciones\n"
     ]
    },
    {
     "data": {
      "text/plain": [
       "0.7032470703125"
      ]
     },
     "execution_count": 15,
     "metadata": {},
     "output_type": "execute_result"
    }
   ],
   "source": [
    "biseccion(f, -1, 2, 0.001)"
   ]
  },
  {
   "cell_type": "code",
   "execution_count": 16,
   "id": "509b78db-58fb-4e79-a645-f5eb7b7fc9f4",
   "metadata": {},
   "outputs": [
    {
     "name": "stdout",
     "output_type": "stream",
     "text": [
      "Cero en 0.7032906588639654, encontrado en 2 iteraciones.\n"
     ]
    },
    {
     "data": {
      "text/plain": [
       "0.7032906588639654"
      ]
     },
     "execution_count": 16,
     "metadata": {},
     "output_type": "execute_result"
    }
   ],
   "source": [
    "newton(f, df, 0.7032470703125, 0.0000001)"
   ]
  },
  {
   "cell_type": "markdown",
   "id": "5bc429ab-b5cc-46b3-be3b-cd7f7e604154",
   "metadata": {},
   "source": [
    "Por lo tanto, el valor para x donde $\\sinh(x) - \\cos(x) = 0$ es 0.7032906588639654"
   ]
  }
 ],
 "metadata": {
  "kernelspec": {
   "display_name": "Python 3",
   "language": "python",
   "name": "python3"
  },
  "language_info": {
   "codemirror_mode": {
    "name": "ipython",
    "version": 3
   },
   "file_extension": ".py",
   "mimetype": "text/x-python",
   "name": "python",
   "nbconvert_exporter": "python",
   "pygments_lexer": "ipython3",
   "version": "3.8.8"
  }
 },
 "nbformat": 4,
 "nbformat_minor": 5
}
