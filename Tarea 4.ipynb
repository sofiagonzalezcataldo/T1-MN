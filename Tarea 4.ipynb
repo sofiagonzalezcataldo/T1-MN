{
 "cells": [
  {
   "cell_type": "markdown",
   "id": "31ce270e-aa4d-4db3-8f74-27b8863d1608",
   "metadata": {},
   "source": [
    "# Tarea 4\n",
    "### Sofía González Cataldo, rut 20.921.915-8\n",
    "Escriba una función dado(n) que simule lanzar un dado de $n$ caras. Corra la función 1000 veces para un dado de 6 caras y guarde los resultados en un archivo .hd5"
   ]
  },
  {
   "cell_type": "code",
   "execution_count": 18,
   "id": "d2b07858-796c-49cc-9805-f4a93fb1a346",
   "metadata": {},
   "outputs": [
    {
     "name": "stdout",
     "output_type": "stream",
     "text": [
      "[2 2 1 6 6 4 3 5 5 1 1 1 2 4 4 4 3 3 3 4 1 3 1 4 6 1 6 3 4 3 2 2 4 2 5 4 3\n",
      " 4 2 6 4 6 5 2 3 5 1 6 4 5 5 1 6 5 5 1 3 6 4 4 4 6 2 5 6 1 4 6 3 2 4 3 4 3\n",
      " 3 6 4 4 2 4 4 2 5 2 1 6 4 2 1 1 1 5 6 2 5 1 3 2 2 5 4 2 1 5 3 1 4 1 4 6 3\n",
      " 6 3 6 3 2 3 6 5 6 1 3 2 2 2 6 4 4 4 6 5 4 3 1 2 3 5 6 3 1 2 1 2 2 3 6 4 2\n",
      " 4 1 3 1 4 2 3 2 2 6 5 5 4 4 6 2 4 5 5 2 4 6 4 3 5 3 6 6 1 4 3 1 2 1 6 6 2\n",
      " 4 3 1 6 5 6 5 6 6 1 5 6 4 3 6 1 2 3 5 5 1 3 1 3 3 3 5 6 4 1 2 3 2 5 4 2 2\n",
      " 6 5 3 6 6 3 1 4 3 2 1 5 2 5 5 1 3 5 5 2 1 5 1 4 3 6 5 5 6 1 1 6 1 1 1 1 5\n",
      " 4 4 3 3 3 5 6 3 4 4 1 6 1 6 4 6 6 1 1 3 5 4 4 4 3 2 2 4 1 1 1 5 2 2 3 2 2\n",
      " 6 5 3 1 3 4 1 3 3 2 5 4 5 2 2 1 5 4 6 5 3 6 4 1 2 5 6 2 3 6 5 4 5 4 1 4 2\n",
      " 5 1 2 4 6 6 6 2 1 5 3 2 4 5 1 2 4 1 3 1 1 4 3 1 4 2 1 4 3 3 1 4 3 2 1 4 1\n",
      " 1 3 2 4 1 5 2 6 1 3 5 5 6 4 6 5 6 3 5 4 6 1 5 4 5 4 5 3 5 1 1 6 4 2 4 6 6\n",
      " 4 6 4 5 6 1 2 4 2 3 6 4 4 3 5 6 3 1 4 3 2 1 3 5 1 1 2 2 2 5 6 2 2 1 5 2 4\n",
      " 3 6 1 6 1 6 5 2 2 6 6 1 1 4 2 2 5 6 2 5 2 2 1 6 4 2 2 2 3 3 2 6 1 3 6 4 1\n",
      " 5 3 6 2 4 1 5 6 2 3 1 6 6 1 2 1 2 2 4 4 6 5 3 4 3 5 3 2 4 2 2 4 1 2 6 1 5\n",
      " 1 6 2 6 1 5 6 3 4 5 3 6 3 1 3 6 2 4 3 3 1 5 3 2 6 6 3 4 1 1 5 3 6 2 2 4 5\n",
      " 5 2 1 2 5 4 5 5 2 5 1 5 1 5 5 6 6 5 3 1 5 3 6 3 3 6 5 1 4 3 6 6 5 6 4 5 1\n",
      " 4 4 3 2 3 4 6 2 6 5 4 5 3 6 1 3 3 1 4 3 4 3 2 5 4 6 4 2 1 1 6 5 5 5 1 2 1\n",
      " 5 3 3 2 5 1 2 6 2 1 6 3 4 5 1 1 3 5 2 4 3 3 4 6 3 4 5 3 6 4 4 6 1 5 1 4 2\n",
      " 4 3 5 6 3 4 3 3 3 5 6 3 6 3 4 1 6 2 6 6 6 5 2 4 2 3 5 3 5 5 3 2 6 3 2 2 6\n",
      " 1 1 2 3 5 5 6 5 6 4 3 2 4 1 5 5 6 2 6 3 2 3 6 2 5 5 4 1 2 6 2 5 6 3 3 3 1\n",
      " 4 1 4 1 2 2 5 1 6 2 5 5 5 4 2 1 6 6 3 6 4 1 3 1 6 2 4 5 3 5 5 3 1 3 3 1 2\n",
      " 5 6 6 1 4 1 5 5 4 6 6 1 4 6 3 4 3 5 2 4 6 5 5 2 4 6 1 3 5 6 1 3 5 6 3 2 5\n",
      " 2 2 5 2 1 3 5 3 4 2 6 4 5 5 2 6 3 1 5 3 2 4 1 5 3 4 3 4 6 4 6 4 1 1 6 6 5\n",
      " 2 2 6 1 5 3 3 3 6 2 3 2 4 1 5 2 4 1 3 5 3 6 4 6 5 5 2 5 1 2 5 2 5 2 2 6 2\n",
      " 1 4 3 3 6 1 5 5 3 2 1 5 5 2 5 5 4 1 6 4 5 4 5 2 5 1 2 5 1 2 1 6 1 4 4 5 4\n",
      " 6 5 1 1 3 4 5 5 2 2 1 1 2 4 6 3 4 2 6 4 4 2 6 2 6 2 3 6 3 5 3 3 3 1 2 5 3\n",
      " 6 5 2 3 2 1 5 4 5 4 3 4 1 2 2 3 1 2 6 4 4 2 3 4 5 3 5 1 1 3 6 3 2 6 2 3 6\n",
      " 6]\n"
     ]
    }
   ],
   "source": [
    "# Importamos el módulo, que se usará para guardar los resultados.\n",
    "# Además importamos random para otorgar valores aleatorios de las caras del dado.\n",
    "import h5py\n",
    "import random\n",
    "\n",
    "# Definimos la función que simula lanzar un dado de n caras.\n",
    "def dado(n):\n",
    "    '''\n",
    "        Regresa el valor obtenido al lanzar un dado de n caras.\n",
    "        El argumento debe ser la cantidad de caras del dado.\n",
    "    '''\n",
    "    \n",
    "    cara = random.randint(1, n)\n",
    "    # random.randint entrega valores enteros, en este caso entre 1 y n, ambos incluidos.\n",
    "    \n",
    "    return cara\n",
    "\n",
    "# Preparación de los datos que deseamos recopilar\n",
    "resultados = [dado(6) for i in range(1000)]\n",
    "# No hay problema con range(1000) ya que desde 0 a 999 igual toma 1000 valores.\n",
    "\n",
    "# Guardamos los datos en un archivo .hd5\n",
    "with h5py.File('datos.hd5', 'w') as file:\n",
    "    datos = file.create_dataset('datos', data = resultados)\n",
    "    \n",
    "# Ahora los leemos.\n",
    "with h5py.File('datos.hd5', 'r') as file:\n",
    "    data = file['datos']\n",
    "    # Mostramos a la consola TODOS los valores obtenidos.\n",
    "    print(data[:]) "
   ]
  }
 ],
 "metadata": {
  "kernelspec": {
   "display_name": "Python 3",
   "language": "python",
   "name": "python3"
  },
  "language_info": {
   "codemirror_mode": {
    "name": "ipython",
    "version": 3
   },
   "file_extension": ".py",
   "mimetype": "text/x-python",
   "name": "python",
   "nbconvert_exporter": "python",
   "pygments_lexer": "ipython3",
   "version": "3.8.8"
  }
 },
 "nbformat": 4,
 "nbformat_minor": 5
}
