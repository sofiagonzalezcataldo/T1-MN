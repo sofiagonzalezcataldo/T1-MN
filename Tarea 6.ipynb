{
 "cells": [
  {
   "cell_type": "markdown",
   "id": "aa59d183-57f0-40ee-a6d8-4e99d09c34c3",
   "metadata": {},
   "source": [
    "# Tarea 6 \n",
    "### Sofía González Cataldo, rut: 20.921.915-8"
   ]
  },
  {
   "cell_type": "markdown",
   "id": "7058c536-539d-4ad9-be3a-1696bdab1644",
   "metadata": {},
   "source": [
    "En un experimento de mecánica cuántica que realizamos una sola vez queremos medir un observable $x$ que depende de un cantidad $M$. \n",
    "\n",
    "De la teoría podemos calcular la probabilidad de obtener $x$ para un valor dado de la masa reducida $M$\n",
    "\n",
    "$$\n",
    "\\rho(x|M) = \\frac{M}{\\sqrt{\\pi}}e^{-M^2x^2}\n",
    "$$\n",
    "\n",
    "Al medir $x$ se obtiene el siguiente resultado: \n"
   ]
  },
  {
   "cell_type": "code",
   "execution_count": 1,
   "id": "332121eb-988c-4c05-8390-7058e20e1bd5",
   "metadata": {},
   "outputs": [],
   "source": [
    "x = 1.56"
   ]
  },
  {
   "cell_type": "markdown",
   "id": "53589385-b5f0-4472-ab9b-da15752ceabe",
   "metadata": {},
   "source": [
    "Si todos los valores de $M$ entre $0$ y $10$ son a priori igualmente probables, use el teorema de Bayes para encontrar $\\rho(M|x)$ y grafíquela para el valor de $x$ dado. ($\\rho(x)$ se puede calcular exigiendo que la probabilidad $\\rho(M|x)$ esté bien normalizada)."
   ]
  },
  {
   "cell_type": "markdown",
   "id": "c8c0fc05-ba16-4b1a-a98d-8d0623b2895a",
   "metadata": {},
   "source": [
    "La probabilidad total de que ocurra M es:\n",
    "\n",
    "$$\n",
    "P = \\int_0^{10}dM\\, \\rho(M)\\, = 1\n",
    "$$\n",
    "\n",
    "Con $\\rho(M) = C$ dado que la probabilidad para cada valor se considera la misma (gráfico rectangular). Por lo tanto:\n",
    "\n",
    "$$\n",
    "P = \\int_0^{10}dM\\, C\\, = 1\n",
    "$$\n",
    "\n",
    "$$\n",
    "C (10) - C (0) = 1\n",
    "$$\n",
    "\n",
    "\n",
    "$$\n",
    "C = \\frac{1}{10}\n",
    "$$\n",
    "\n",
    "Es decir, la probabilidad (o mejor dicho PDF) de que ocurra cualquier valor de M es de $\\rho(M) = \\frac{1}{10}$"
   ]
  },
  {
   "cell_type": "code",
   "execution_count": 11,
   "id": "a895ae82-e301-481a-91ae-ee40fe2f9f53",
   "metadata": {},
   "outputs": [],
   "source": [
    "import matplotlib.pyplot as plt"
   ]
  },
  {
   "cell_type": "code",
   "execution_count": 10,
   "id": "5131d562-79f4-45be-822d-70f6677bef49",
   "metadata": {},
   "outputs": [
    {
     "data": {
      "text/plain": [
       "<matplotlib.collections.PathCollection at 0x125796a8b20>"
      ]
     },
     "execution_count": 10,
     "metadata": {},
     "output_type": "execute_result"
    },
    {
     "data": {
      "image/png": "[encoded data removed]",
      "text/plain": [
       "<Figure size 432x288 with 1 Axes>"
      ]
     },
     "metadata": {
      "needs_background": "light"
     },
     "output_type": "display_data"
    }
   ],
   "source": [
    "# Demostración del gráfico de densidad de probabilidad de M.\n",
    "x = [i for i in range(11)]\n",
    "y = [1/10 for i in range(11)]\n",
    "plt.plot(x, y)\n",
    "plt.title('Función de densidad de probabilidad de M')\n",
    "plt.scatter(0, 1/10, color='red')\n",
    "plt.scatter(10, 1/10, color='red')"
   ]
  },
  {
   "cell_type": "markdown",
   "id": "bd58f69c-11b1-44b7-8bdb-a730179e1c6b",
   "metadata": {},
   "source": [
    "El teorema de Bayes nos indica que la probabilidad de que ocurra M dado x es:\n",
    "\n",
    "$$\n",
    "\\rho(M|x) = \\frac{\\rho(x|M) \\rho(M)}{\\rho(x)}\n",
    "$$\n",
    "\n",
    "Lo que obtenemos\n",
    "\n",
    "$$\n",
    "\\rho(M|x) = \\frac{M}{10\\sqrt{\\pi}\\rho(x)}e^{-M^2x^2}\n",
    "$$"
   ]
  },
  {
   "cell_type": "markdown",
   "id": "aa9e8848-946d-4bf3-876c-60f22f8a02bc",
   "metadata": {},
   "source": [
    "Para calcular $\\rho(x)$ utilizamos que $\\rho(M|x)$ está normalizado, es decir, es igual a 1.\n",
    "Por lo tanto:\n",
    "\n",
    "$$\n",
    "\\int_0^{10}dM\\, \\rho(M|x)\\, = 1\n",
    "$$\n",
    "\n",
    "$$\n",
    "\\int_0^{10}dM\\, \\rho(M|x) = 1\n",
    "$$\n",
    "\n",
    "$$\n",
    "\\int_0^{10}dM\\, \\frac{M}{\\rho(x) 10 \\sqrt{\\pi}}e^{-M^2x^2} = 1\n",
    "$$\n",
    "\n",
    "$$\n",
    "\\frac{1}{10 \\sqrt{\\pi} \\rho(x)} \\int_0^{10}dM\\, e^{-M^2x^2}M = 1\n",
    "$$\n",
    "\n",
    "$$\n",
    "\\frac{1}{10 \\sqrt{\\pi} \\rho(x)} \\left[\\frac{-e^{-M^2x^2}}{2x^2}\\right]_0^{10} = 1\n",
    "$$\n",
    "\n",
    "$$\n",
    "\\frac{1}{10 \\sqrt{\\pi}} \\left[\\frac{-e^{-100x^2}+1}{2x^2}\\right] = \\rho(x)\n",
    "$$\n",
    "\n",
    "Ahora reemplazando en la primera expresión obtenida del teorema de Bayes:\n",
    "\n",
    "$$\n",
    "\\rho(M|x) = \\frac{10 \\sqrt{\\pi} M(2x^2)}{10\\sqrt{\\pi}(-e^{-100x^2}+1)}e^{-M^2x^2}\n",
    "$$\n",
    "\n",
    "Simplificando:\n",
    "\n",
    "$$\n",
    "\\rho(M|x) = \\frac{2Mx^2}{(-e^{-100x^2}+1)}e^{-M^2x^2}\n",
    "$$"
   ]
  },
  {
   "cell_type": "code",
   "execution_count": 3,
   "id": "8a7494e1-2831-4f2d-8daf-7fd63d025eba",
   "metadata": {},
   "outputs": [],
   "source": [
    "import numpy as np"
   ]
  },
  {
   "cell_type": "code",
   "execution_count": 1,
   "id": "52875be4-2a27-4ebf-8e9c-85e66b58dcb6",
   "metadata": {},
   "outputs": [],
   "source": [
    "# Se define la función de PDF para M dado x.\n",
    "def m_dado_x(m, x):\n",
    "    return 2*m*(x**2)*np.exp((-m**2)*(x**2))/(-np.exp(-100*x**2) + 1)"
   ]
  },
  {
   "cell_type": "code",
   "execution_count": 4,
   "id": "22aa1356-1f96-4eef-af42-318d03220d43",
   "metadata": {},
   "outputs": [],
   "source": [
    "# Preparación de datos continuos para M entre 0 y 10 para graficar.\n",
    "ms = np.linspace(0, 10, 100)"
   ]
  },
  {
   "cell_type": "code",
   "execution_count": 10,
   "id": "cb2c397f-0445-4408-91dc-7bd40100a07f",
   "metadata": {},
   "outputs": [
    {
     "data": {
      "image/png": "[encoded data removed]",
      "text/plain": [
       "<Figure size 432x288 with 1 Axes>"
      ]
     },
     "metadata": {
      "needs_background": "light"
     },
     "output_type": "display_data"
    }
   ],
   "source": [
    "# Graficamos la PDF en función de cada dato M, dado x = 1.56.\n",
    "plt.plot(ms, m_dado_x(ms, 1.56))\n",
    "plt.title('Densidad de probabilidad de M dado x')\n",
    "plt.show()"
   ]
  },
  {
   "cell_type": "code",
   "execution_count": null,
   "id": "eb7258d6-2d1d-4c61-8086-63b230240d11",
   "metadata": {},
   "outputs": [],
   "source": []
  },
  {
   "cell_type": "code",
   "execution_count": null,
   "id": "749269d4-4636-4ef2-ab39-d91a3ffd4900",
   "metadata": {},
   "outputs": [],
   "source": []
  },
  {
   "cell_type": "markdown",
   "id": "6e9af4f8",
   "metadata": {},
   "source": [
    "# Calificación: 7.0"
   ]
  },
  {
   "cell_type": "markdown",
   "id": "30d72adb",
   "metadata": {},
   "source": []
  }
 ],
 "metadata": {
  "kernelspec": {
   "display_name": "Python 3",
   "language": "python",
   "name": "python3"
  },
  "language_info": {
   "codemirror_mode": {
    "name": "ipython",
    "version": 3
   },
   "file_extension": ".py",
   "mimetype": "text/x-python",
   "name": "python",
   "nbconvert_exporter": "python",
   "pygments_lexer": "ipython3",
   "version": "3.10.6 (main, Nov  2 2022, 18:53:38) [GCC 11.3.0]"
  },
  "vscode": {
   "interpreter": {
    "hash": "916dbcbb3f70747c44a77c7bcd40155683ae19c65e1c03b4aa3499c5328201f1"
   }
  }
 },
 "nbformat": 4,
 "nbformat_minor": 5
}
