{
 "cells": [
  {
   "cell_type": "markdown",
   "id": "c7333e39-cac0-4f18-afc5-bd7eb2bf76f9",
   "metadata": {},
   "source": [
    "# Tarea 8 "
   ]
  },
  {
   "cell_type": "markdown",
   "id": "4be9c4b8-6ddb-4f06-9c3d-b4e6b90571af",
   "metadata": {},
   "source": [
    "### Sofía González Cataldo, rut 20.921.915-8"
   ]
  },
  {
   "cell_type": "markdown",
   "id": "e44b5cc6-988b-4fe5-ae05-5c1c8af0a5c4",
   "metadata": {},
   "source": [
    "Considere una curva gaussiana con media $0$ y varianza $1$. Aproxime esta curva con una spline cúbica usando 5 puntos entre $ x = 0 $ y $ x = 2 $. Use esta spline para calcular la integral de la función. Compare el resultado con su valor exacto (ver la función de error de tareas anteriores)."
   ]
  },
  {
   "cell_type": "code",
   "execution_count": 2,
   "id": "2658bc7e-aa0e-445b-89b5-3fbc0c01eb72",
   "metadata": {},
   "outputs": [],
   "source": [
    "# importar librerías\n",
    "import numpy as np\n",
    "import matplotlib.pyplot as plt"
   ]
  },
  {
   "cell_type": "code",
   "execution_count": 3,
   "id": "e052f024-9468-463c-9c44-6acd162d1342",
   "metadata": {},
   "outputs": [],
   "source": [
    "# función para la curva gaussiana\n",
    "def gauss(x, mu, sigma):\n",
    "    return np.exp(-(x - mu)**2/2*sigma**2)/(np.sqrt(2*np.pi)*sigma)"
   ]
  },
  {
   "cell_type": "code",
   "execution_count": 9,
   "id": "777ec87a-7b42-431b-a158-f68da0a61382",
   "metadata": {},
   "outputs": [],
   "source": [
    "def spline_coefs(puntos):\n",
    "    '''\n",
    "    Función que entrega los coeficientes de los polinomios utilizados\n",
    "    en la interpolación de tipo \"spline cúbica\".\n",
    "    '''\n",
    "    n = len(puntos) - 1\n",
    "    \n",
    "    h = np.zeros(n)\n",
    "    for i in range(n):\n",
    "        h[i] = puntos[i + 1][0] - puntos[i][0]\n",
    "    \n",
    "    a = puntos[:,1]\n",
    "    alpha = np.zeros(n - 1)\n",
    "    for i in range(1, n):\n",
    "        alpha[i-1] = (3/h[i])*(a[i+1] - a[i]) - (3/h[i-1])*(a[i] - a[i-1])\n",
    "        \n",
    "        \n",
    "    # Se resuelve un sistema de ecuaciones:\n",
    "    l = np.ones(n + 1)\n",
    "    mu = np.zeros(n)\n",
    "    z = np.zeros(n + 1)\n",
    "    for i in range(1, n):\n",
    "        l[i] = 2*(puntos[i+1][0] - puntos[i-1][0]) - h[i-1]*mu[i-1]\n",
    "        mu[i] = h[i]/l[i]\n",
    "        z[i] = (alpha[i-1] - h[i-1]*z[i-1])/l[i]\n",
    "    b = np.zeros(n)\n",
    "    c = np.zeros(n+1)\n",
    "    d = np.zeros(n)\n",
    "    for j in range(n-1,-1,-1):\n",
    "        c[j] = z[j] - mu[j]*c[j+1]\n",
    "        b[j] = (a[j+1] - a[j])/h[j] - h[j]*(c[j+1] + 2*c[j])/3\n",
    "        d[j] = (c[j+1] - c[j])/(3*h[j])\n",
    "        \n",
    "    return a, b, c, d"
   ]
  },
  {
   "cell_type": "code",
   "execution_count": 10,
   "id": "60b7950f-2b0b-45f1-a118-8ba17bb15319",
   "metadata": {},
   "outputs": [],
   "source": [
    "def spline_eval(x, coefs, puntos):\n",
    "    \n",
    "    '''\n",
    "    Entrega los polinomios utilizados para interpolar una función con\n",
    "    una spline cúbica.\n",
    "    '''\n",
    "    if x >= puntos[-1,0]:\n",
    "        return puntos[-1,1]\n",
    "    elif x <= puntos[0,0]:\n",
    "        return puntos[0,1]\n",
    "    \n",
    "    i = find_ind(x, puntos)\n",
    "    a, b, c, d = coefs\n",
    "    return (a[i] + b[i]*(x - puntos[i][0]) + \\\n",
    "            c[i]*(x - puntos[i][0])**2 + d[i]*(x - puntos[i][0])**3)"
   ]
  },
  {
   "cell_type": "code",
   "execution_count": 11,
   "id": "d223ca05-3715-4348-bb69-e98bd3b3b8d8",
   "metadata": {},
   "outputs": [],
   "source": [
    "def find_ind(x, puntos):\n",
    "    for i in range(len(puntos)):\n",
    "        if x < puntos[i,0] and i != 0:\n",
    "            return i-1"
   ]
  },
  {
   "cell_type": "code",
   "execution_count": 52,
   "id": "2413bc73-f195-42f9-839a-49934076cd28",
   "metadata": {},
   "outputs": [
    {
     "data": {
      "text/plain": [
       "<matplotlib.legend.Legend at 0x215b1be6820>"
      ]
     },
     "execution_count": 52,
     "metadata": {},
     "output_type": "execute_result"
    },
    {
     "data": {
      "image/png": "[encoded data removed]",
      "text/plain": [
       "<Figure size 432x288 with 1 Axes>"
      ]
     },
     "metadata": {
      "needs_background": "light"
     },
     "output_type": "display_data"
    }
   ],
   "source": [
    "# puntos para la interpolación\n",
    "xp = np.linspace(0, 2, 5)\n",
    "# estos puntos se utilizarán de argumento para obtener los coeficientes\n",
    "ptos = np.array([[xi, gauss(xi, 0, 1)] for xi in xp])\n",
    "coefs = spline_coefs(ptos)\n",
    "# puntos varios para las gráficas\n",
    "x = np.linspace(-1, 3, 100)\n",
    "# obtener los puntos de la aproximación\n",
    "spline = [spline_eval(xi, coefs, ptos) for xi in x]\n",
    "exacta = gauss(x, 0, 1)\n",
    "\n",
    "plt.scatter(ptos[:,0], ptos[:,1], color='red')\n",
    "plt.plot(x, exacta, label='Exacta', color='black')\n",
    "plt.plot(x, spline, label='Spline', color='purple')\n",
    "plt.legend()"
   ]
  },
  {
   "cell_type": "code",
   "execution_count": 49,
   "id": "857f12f0-bd86-474d-b951-66ef3531636b",
   "metadata": {},
   "outputs": [],
   "source": [
    "from scipy import integrate # importar módulo de integración"
   ]
  },
  {
   "cell_type": "code",
   "execution_count": 34,
   "id": "b4b7cb52-96e5-4929-884d-8d1d799f6df9",
   "metadata": {},
   "outputs": [
    {
     "data": {
      "text/plain": [
       "0.4765028227022264"
      ]
     },
     "execution_count": 34,
     "metadata": {},
     "output_type": "execute_result"
    }
   ],
   "source": [
    "integral_spline, error = integrate.quad(spline_eval, 0, 2, args=(coefs, ptos))\n",
    "integral_spline"
   ]
  },
  {
   "cell_type": "markdown",
   "id": "c9145bd6-5b3a-4080-880d-655c29573428",
   "metadata": {},
   "source": [
    "El valor de la integral usando la spline cúbica es 0.4765028227022264."
   ]
  },
  {
   "cell_type": "markdown",
   "id": "cac71dfa-11bc-4e13-b5d8-8d15b50d8944",
   "metadata": {},
   "source": [
    "El valor de una integral para una curva gaussiana está dada por:\n",
    "\n",
    "$$\n",
    "\\int_0^a dx\\,e^{-x^2} = \\frac{\\sqrt{\\pi}}{2}\\text{erf}(a)\n",
    "$$\n",
    "\n",
    "Sin embargo, esta integral debemos modificarla ya que $ x^2 = \\frac{(x - \\mu)^2}{2\\sigma^2} $ y la acompaña una constante $ \\frac{1}{\\sqrt{2\\pi}\\sigma} $\n"
   ]
  },
  {
   "cell_type": "markdown",
   "id": "611dc908-5f62-45cf-b195-46f9e3351960",
   "metadata": {},
   "source": [
    "Finalmente se obtiene que la integral es:\n",
    "\n",
    "$$\n",
    "\\frac{1}{\\sqrt{2\\pi}\\sigma} \\int_0^a dx\\,e^{-\\frac{(x - \\mu)^2}{2\\sigma^2}} = \\frac{1}{2}\\text{erf}\\left(\\frac{a}{\\sqrt{2}}\\right)\n",
    "$$"
   ]
  },
  {
   "cell_type": "code",
   "execution_count": 50,
   "id": "fdab078a-c4d8-4f01-9004-255484ac66ca",
   "metadata": {},
   "outputs": [],
   "source": [
    "from scipy import special # importar módulo para función error"
   ]
  },
  {
   "cell_type": "code",
   "execution_count": 47,
   "id": "87d4aee2-cd32-4c42-b5b8-39975ae255e1",
   "metadata": {},
   "outputs": [
    {
     "data": {
      "text/plain": [
       "0.4772498680518208"
      ]
     },
     "execution_count": 47,
     "metadata": {},
     "output_type": "execute_result"
    }
   ],
   "source": [
    "# Para este caso a = 2\n",
    "integral_exacta = special.erf(2/np.sqrt(2))/2\n",
    "integral_exacta"
   ]
  },
  {
   "cell_type": "markdown",
   "id": "ec8b643f-7488-4717-92b2-567d1ea5dd88",
   "metadata": {},
   "source": [
    "El valor exacto de la integral de la gaussiana es 0.4772498680518208."
   ]
  },
  {
   "cell_type": "code",
   "execution_count": 48,
   "id": "dc0c42ad-8131-451f-be6e-f5f2d29cb26c",
   "metadata": {},
   "outputs": [
    {
     "data": {
      "text/plain": [
       "0.0007470453495944107"
      ]
     },
     "execution_count": 48,
     "metadata": {},
     "output_type": "execute_result"
    }
   ],
   "source": [
    "# Comparación de la integral exacta y la de la spline.\n",
    "error = abs(integral_exacta - integral_spline)\n",
    "error"
   ]
  },
  {
   "cell_type": "markdown",
   "id": "3fc39789-b03e-465d-867f-f4e6d4712922",
   "metadata": {},
   "source": [
    "El error entre el valor exacto de la integral y el valor de la integral de la spline es muy pequeño. La spline cúbica se asemeja casi en su totalidad a la gráfica exacta, la diferencia se observa en los primeros dos puntos (x = 0, x = 0.5). De hecho, la integral de la spline es menor a la de la gaussiana, lo que se puede notar en la gráfica, que la curva de la spline le falta un \"trozo\" de la curva real. La spline realiza una muy buena aproximación de la curva."
   ]
  },
  {
   "cell_type": "code",
   "execution_count": null,
   "id": "bc7b008d-f5e8-4239-8b5e-931c8ca912e1",
   "metadata": {},
   "outputs": [],
   "source": []
  }
 ],
 "metadata": {
  "kernelspec": {
   "display_name": "Python 3",
   "language": "python",
   "name": "python3"
  },
  "language_info": {
   "codemirror_mode": {
    "name": "ipython",
    "version": 3
   },
   "file_extension": ".py",
   "mimetype": "text/x-python",
   "name": "python",
   "nbconvert_exporter": "python",
   "pygments_lexer": "ipython3",
   "version": "3.8.8"
  }
 },
 "nbformat": 4,
 "nbformat_minor": 5
}
