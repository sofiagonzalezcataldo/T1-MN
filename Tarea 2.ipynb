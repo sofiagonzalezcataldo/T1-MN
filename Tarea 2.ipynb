{
 "cells": [
  {
   "cell_type": "markdown",
   "id": "90ac4de2-4d05-49af-a2b6-37e46cea71d9",
   "metadata": {},
   "source": [
    "## Tarea 2.6\n",
    "Sofía Catalina González Cataldo, RUT 20.921.915-8"
   ]
  },
  {
   "cell_type": "markdown",
   "id": "058d6b80-a375-435e-b57c-9ec439c95b1b",
   "metadata": {},
   "source": [
    "Escriba a cuál número corresponde la siguiente representación de 16 bits\n",
    "\n",
    "1 00110 1110110101"
   ]
  },
  {
   "cell_type": "markdown",
   "id": "5e0920a0-d51c-425f-82e8-9deedc1069ea",
   "metadata": {},
   "source": [
    "Para encontrar el valor de esta representación en 16 bits, se deben encontrar 3 variables, \"s\", \"c\" y \"f\".\n",
    "\n",
    "- s corresponde al primer número de la representación, esté nos entregará el signo del número que se desea conseguir y solo toma valor 0 o 1. Para este caso es 1.\n",
    "- Los siguientes 5 números definen c, los cuales les designaremos una posición de 4, 3, 2, 1 y 0 (observando de izquierda a derecha). Para obtener c, debemos considerar una suma de 2's elevados a la posición de los 5 números mencionados, sin embargo, aquellas posiciones que tengan 0's no serán consideradas. Para nuestro caso será: \n",
    "$$ c = 2^{2} + 2^{1} $$ dado que solo en la posición 2 y 1 tenemos 1's.\n",
    "- Los últimos 10 números designarán el valor de f. Para este caso se debe realizar una sumatoria de 1/2 elevada a la posición de los 1's que se encuentren. Ahora la posición se designa como 1, 2, 3, 4, 5, 6, 7, 8, 9 y 10 (también de izq. a derecha). Para esta representación sería: \n",
    "\n",
    "$$f = \\left(\\frac{1}{2}\\right)^1 + \\left(\\frac{1}{2}\\right)^2 + \\left(\\frac{1}{2}\\right)^3 + \\left(\\frac{1}{2}\\right)^5 + \\left(\\frac{1}{2}\\right)^6 + \\left(\\frac{1}{2}\\right)^8 + \\left(\\frac{1}{2}\\right)^{10}$$"
   ]
  },
  {
   "cell_type": "code",
   "execution_count": 3,
   "id": "70073e87-1da9-4f16-8ea1-f0bd837803d4",
   "metadata": {},
   "outputs": [
    {
     "data": {
      "text/plain": [
       "6"
      ]
     },
     "execution_count": 3,
     "metadata": {},
     "output_type": "execute_result"
    }
   ],
   "source": [
    "c = 2**2 + 2**1\n",
    "c"
   ]
  },
  {
   "cell_type": "code",
   "execution_count": 2,
   "id": "1ead077d-a648-4fd6-b16b-6d80c6bd438c",
   "metadata": {},
   "outputs": [
    {
     "data": {
      "text/plain": [
       "0.9267578125"
      ]
     },
     "execution_count": 2,
     "metadata": {},
     "output_type": "execute_result"
    }
   ],
   "source": [
    "f = ((1/2)**1)+((1/2)**2)+((1/2)**3)+((1/2)**5)+((1/2)**6)+((1/2)**8)+((1/2)**10)\n",
    "f"
   ]
  },
  {
   "cell_type": "markdown",
   "id": "ff5e7cf8-c313-4be0-abef-0276fb3127d5",
   "metadata": {},
   "source": [
    "Finalmente, la representación de 16 bits está dada por la siguiente fórmula:\n",
    "\n",
    "$$(-1)^s 2^{c - 15} (1 + f)$$"
   ]
  },
  {
   "cell_type": "code",
   "execution_count": 5,
   "id": "e2c0e42e-7b71-49cd-a499-18e36a1860ef",
   "metadata": {},
   "outputs": [
    {
     "data": {
      "text/plain": [
       "-0.0037631988525390625"
      ]
     },
     "execution_count": 5,
     "metadata": {},
     "output_type": "execute_result"
    }
   ],
   "source": [
    "num = (-1)**1*2**(c - 15)*(1 + f)\n",
    "num"
   ]
  },
  {
   "cell_type": "markdown",
   "id": "c3f801b5-f333-49b3-a6bc-9056b8d4f529",
   "metadata": {},
   "source": [
    "El valor de la representación corresponde a -0.0037631988525390625"
   ]
  },
  {
   "cell_type": "code",
   "execution_count": null,
   "id": "5dbfec9b-58ca-44aa-b7e1-8dc7dfab4c29",
   "metadata": {},
   "outputs": [],
   "source": []
  }
 ],
 "metadata": {
  "kernelspec": {
   "display_name": "Python 3",
   "language": "python",
   "name": "python3"
  },
  "language_info": {
   "codemirror_mode": {
    "name": "ipython",
    "version": 3
   },
   "file_extension": ".py",
   "mimetype": "text/x-python",
   "name": "python",
   "nbconvert_exporter": "python",
   "pygments_lexer": "ipython3",
   "version": "3.8.8"
  }
 },
 "nbformat": 4,
 "nbformat_minor": 5
}
