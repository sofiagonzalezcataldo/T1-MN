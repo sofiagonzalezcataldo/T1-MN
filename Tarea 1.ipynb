{
 "cells": [
  {
   "cell_type": "markdown",
   "metadata": {},
   "source": [
    "Tarea 1, Sofía González Cataldo, rut 20.921.915-8"
   ]
  },
  {
   "cell_type": "markdown",
   "metadata": {},
   "source": [
    "Escriba un código que haga la siguiente sumatoria:\n",
    "\n",
    "$$\n",
    "\\sum_{n=0}^{100} \\sum_{m=0}^{n} \\left(0.3^n\\right)^m\n",
    "$$"
   ]
  },
  {
   "cell_type": "code",
   "execution_count": 1,
   "metadata": {},
   "outputs": [
    {
     "ename": "NameError",
     "evalue": "name 's' is not defined",
     "output_type": "error",
     "traceback": [
      "\u001b[1;31m---------------------------------------------------------------------------\u001b[0m",
      "\u001b[1;31mNameError\u001b[0m                                 Traceback (most recent call last)",
      "\u001b[1;32m<ipython-input-1-605f714eb9df>\u001b[0m in \u001b[0;36m<module>\u001b[1;34m\u001b[0m\n\u001b[0;32m      8\u001b[0m \u001b[1;31m#Aquí ocurre lo mismo del paso anterior, como la sumatoria es desde 0 hasta n, para no perder el valor de n se coloca n+1.\u001b[0m\u001b[1;33m\u001b[0m\u001b[1;33m\u001b[0m\u001b[1;33m\u001b[0m\u001b[0m\n\u001b[0;32m      9\u001b[0m         \u001b[0msumatoria\u001b[0m \u001b[1;33m+=\u001b[0m \u001b[1;33m(\u001b[0m\u001b[1;36m0.3\u001b[0m\u001b[1;33m**\u001b[0m\u001b[0mn\u001b[0m\u001b[1;33m)\u001b[0m\u001b[1;33m**\u001b[0m\u001b[0mm\u001b[0m\u001b[1;33m\u001b[0m\u001b[1;33m\u001b[0m\u001b[0m\n\u001b[1;32m---> 10\u001b[1;33m \u001b[0mprint\u001b[0m\u001b[1;33m(\u001b[0m\u001b[1;34mf'El valor de la sumatoria es: {s}'\u001b[0m\u001b[1;33m)\u001b[0m \u001b[1;31m#generamos un texto con el valor final que se desea obtener.\u001b[0m\u001b[1;33m\u001b[0m\u001b[1;33m\u001b[0m\u001b[0m\n\u001b[0m",
      "\u001b[1;31mNameError\u001b[0m: name 's' is not defined"
     ]
    }
   ],
   "source": [
    "sumatoria = 0 #Inicializador de la sumatoria, así el código toma un valor para comenzar a ejecutar.\n",
    "#El primer ciclo for está considerando la sumatoria externa, de n = 0 hasta 100.\n",
    "for n in range(101): \n",
    "#Se debe considerar range(101) ya que range toma valores de 0 hasta n-1. Si ingresamos range(100) se pierde el último valor.\n",
    "#No es necesario especificar el argumento para el valor de inicio, ya que por defecto considera el 0.\n",
    "#El segundo ciclo for está considerando la sumatoria interna, de m = 0 hasta n.\n",
    "    for m in range(n+1): \n",
    "#Aquí ocurre lo mismo del paso anterior, como la sumatoria es desde 0 hasta n, para no perder el valor de n se coloca n+1.\n",
    "        sumatoria += (0.3**n)**m\n",
    "print(f'El valor de la sumatoria es: {s}') #generamos un texto con el valor final que se desea obtener."
   ]
  },
  {
   "cell_type": "markdown",
   "metadata": {},
   "source": [
    "# Calificacion: 6.5\n",
    "El codigo esta bien salvo en la parte del print, tienes definida la variable sumatoria para realizar la suma, pero cuando haces el print ocupas una variable s que en ningun momento a sido definida, ten cuidado con estos errores, no te descuento mas porque es la primera tarea y son cosas que pasan uwu.\n",
    "\n",
    "Mi segunda observacion es que intenta que tus comentarios sean mas cortos o que no ocupen una sola linea, siempre puede apretar enter y escribir el comentario abajo. Normalmente en python de busca no escribir mas de 60 caracteres en una sola linea."
   ]
  }
 ],
 "metadata": {
  "kernelspec": {
   "display_name": "Python 3",
   "language": "python",
   "name": "python3"
  },
  "language_info": {
   "codemirror_mode": {
    "name": "ipython",
    "version": 3
   },
   "file_extension": ".py",
   "mimetype": "text/x-python",
   "name": "python",
   "nbconvert_exporter": "python",
   "pygments_lexer": "ipython3",
   "version": "3.8.3"
  },
  "toc": {
   "base_numbering": 1,
   "nav_menu": {},
   "number_sections": true,
   "sideBar": true,
   "skip_h1_title": false,
   "title_cell": "Table of Contents",
   "title_sidebar": "Contents",
   "toc_cell": false,
   "toc_position": {},
   "toc_section_display": true,
   "toc_window_display": false
  }
 },
 "nbformat": 4,
 "nbformat_minor": 5
}
