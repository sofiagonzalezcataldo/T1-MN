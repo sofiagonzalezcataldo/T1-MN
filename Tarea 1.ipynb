{
 "cells": [
  {
   "cell_type": "markdown",
   "id": "1cdd2009-1d6b-4fba-98d3-f8091dd4b800",
   "metadata": {},
   "source": [
    "Tarea 1, Sofía González Cataldo, rut 20.921.915-8"
   ]
  },
  {
   "cell_type": "markdown",
   "id": "b481286b-723e-4006-8be9-5c335e11a496",
   "metadata": {},
   "source": [
    "Escriba un código que haga la siguiente sumatoria:\n",
    "\n",
    "$$\n",
    "\\sum_{n=0}^{100} \\sum_{m=0}^{n} \\left(0.3^n\\right)^m\n",
    "$$"
   ]
  },
  {
   "cell_type": "code",
   "execution_count": 3,
   "id": "c7b10494-3def-40b6-ae25-fb5115da370a",
   "metadata": {},
   "outputs": [
    {
     "name": "stdout",
     "output_type": "stream",
     "text": [
      "El valor de la sumatoria es: 101.4374927610005\n"
     ]
    }
   ],
   "source": [
    "sumatoria = 0 #Inicializador de la sumatoria, así el código toma un valor para comenzar a ejecutar.\n",
    "#El primer ciclo for está considerando la sumatoria externa, de n = 0 hasta 100.\n",
    "for n in range(101): \n",
    "#Se debe considerar range(101) ya que range toma valores de 0 hasta n-1. Si ingresamos range(100) se pierde el último valor.\n",
    "#No es necesario especificar el argumento para el valor de inicio, ya que por defecto considera el 0.\n",
    "#El segundo ciclo for está considerando la sumatoria interna, de m = 0 hasta n.\n",
    "    for m in range(n+1): \n",
    "#Aquí ocurre lo mismo del paso anterior, como la sumatoria es desde 0 hasta n, para no perder el valor de n se coloca n+1.\n",
    "        sumatoria += (0.3**n)**m\n",
    "print(f'El valor de la sumatoria es: {s}') #generamos un texto con el valor final que se desea obtener."
   ]
  },
  {
   "cell_type": "code",
   "execution_count": null,
   "id": "48bced9b-97a2-4f30-99ef-dcb14b21d1c7",
   "metadata": {},
   "outputs": [],
   "source": []
  }
 ],
 "metadata": {
  "kernelspec": {
   "display_name": "Python 3",
   "language": "python",
   "name": "python3"
  },
  "language_info": {
   "codemirror_mode": {
    "name": "ipython",
    "version": 3
   },
   "file_extension": ".py",
   "mimetype": "text/x-python",
   "name": "python",
   "nbconvert_exporter": "python",
   "pygments_lexer": "ipython3",
   "version": "3.8.8"
  }
 },
 "nbformat": 4,
 "nbformat_minor": 5
}
