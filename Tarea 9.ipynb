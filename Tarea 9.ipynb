{
 "cells": [
  {
   "cell_type": "markdown",
   "id": "b05ea5c0-c16b-412b-a31e-cd9661e0a09f",
   "metadata": {},
   "source": [
    "# Tarea 9"
   ]
  },
  {
   "cell_type": "markdown",
   "id": "66bf2971-60d6-462c-a385-116301102c6b",
   "metadata": {},
   "source": [
    "### Sofía González Cataldo, rut 20.921.915-8"
   ]
  },
  {
   "cell_type": "markdown",
   "id": "821a4e48-8805-47d2-9dc3-931236f0f270",
   "metadata": {},
   "source": [
    "Use el método compuesto de Simpson y el método compuesto del trapecio para encontrar la siguiente integral\n",
    "\n",
    "$$\n",
    "\\int_0^4 \\frac{dx}{\\sqrt{x^2 + 16}}\n",
    "$$\n",
    "\n",
    "Compare con el resultado exacto para obtener el error cometido. Grafique el error en función de $h$ para ambos métodos y compare con las fórmulas de error."
   ]
  },
  {
   "cell_type": "code",
   "execution_count": 64,
   "id": "0f24a6e6-68fe-4aa0-bea5-6d6a7c77fa12",
   "metadata": {},
   "outputs": [],
   "source": [
    "import numpy as np\n",
    "import matplotlib.pyplot as plt\n",
    "from scipy import integrate"
   ]
  },
  {
   "cell_type": "code",
   "execution_count": 65,
   "id": "d615a2e1-17b1-4e8e-8d95-719a640585e5",
   "metadata": {},
   "outputs": [],
   "source": [
    "def f(x):\n",
    "    '''\n",
    "    Función requerida para el problema.\n",
    "    '''\n",
    "    return 1/np.sqrt(x**2 + 16)"
   ]
  },
  {
   "cell_type": "markdown",
   "id": "f3ba2532-2f9e-40bc-9a76-e3ae47c8ec11",
   "metadata": {},
   "source": [
    "$$\n",
    "\\int_a^b dx\\,f(x) = \\frac{h}{2}\\left[f(a) + 2\\sum_{i=1}^{n-1} f(x_i) + f(b)\\right]- \\frac{h^2 (b-a)}{12}f''(\\mu)\n",
    "$$"
   ]
  },
  {
   "cell_type": "code",
   "execution_count": 66,
   "id": "12e56d08-475f-478e-ae60-48cc4617ab56",
   "metadata": {},
   "outputs": [],
   "source": [
    "# Fórmula compuesta del trapecio\n",
    "def trapecio(f, a, b, n):\n",
    "    '''\n",
    "    Función que aproxima la integral con la fórmula compuesta del trapecio.\n",
    "    '''\n",
    "    h = (b - a)/n\n",
    "    xi = [a + i*h for i in range(1, n)] # x_i\n",
    "    fx = [f(x) for x in xi] # f(x_i)\n",
    "    return (h/2)*(f(a) + 2*sum(fx) + f(b)), h"
   ]
  },
  {
   "cell_type": "code",
   "execution_count": 67,
   "id": "e2d14ab7-0a1e-4907-8b32-4284703fccd4",
   "metadata": {},
   "outputs": [
    {
     "data": {
      "text/plain": [
       "0.8805548962351778"
      ]
     },
     "execution_count": 67,
     "metadata": {},
     "output_type": "execute_result"
    }
   ],
   "source": [
    "int_trapecio, h1 = trapecio(f, 0, 4, 6)\n",
    "int_trapecio"
   ]
  },
  {
   "cell_type": "markdown",
   "id": "6b2e4b59-9b19-4239-be51-0a89edc6e77a",
   "metadata": {},
   "source": [
    "$$\n",
    "\\int_a^b dx\\,f(x) = \\frac{h}{3}\\left[f(a) + 2\\sum_{i=1}^{n/2-1} f(x_{2i}) + 4\\sum_{i=1}^{n/2} f(x_{2i-1}) + f(b)\\right]- \\frac{h^4 (b-a)}{180}f''(\\mu)\n",
    "$$"
   ]
  },
  {
   "cell_type": "code",
   "execution_count": 68,
   "id": "0d8f7221-b7ad-4019-9fc5-47e76668015e",
   "metadata": {},
   "outputs": [],
   "source": [
    "# Fórmula compuesta de Simpson\n",
    "def simpson(f, a, b, n):\n",
    "    '''\n",
    "    Función que aproxima la integral con la fórmula compuesta de simpson.\n",
    "    '''\n",
    "    h = (b - a)/n\n",
    "    xi = [a + 2*i*h for i in range(1, int((n/2) - 1) + 1)] # x_2i \n",
    "    xj = [a + (2*i - 1)*h for i in range(1, int((n/2) + 1))] # x_(2i-1)\n",
    "    fxi = [f(x) for x in xi] # términos f(x_2i)\n",
    "    fxj = [f(x) for x in xj] # términos f(x_(2i-1))\n",
    "    return (h/3)*(f(a) + 2*sum(fxi) + 4*sum(fxj) + f(b)), h"
   ]
  },
  {
   "cell_type": "code",
   "execution_count": 69,
   "id": "3c7e4ef1-2bab-4511-b88e-edd8945c6b1c",
   "metadata": {},
   "outputs": [
    {
     "data": {
      "text/plain": [
       "0.8813746413156114"
      ]
     },
     "execution_count": 69,
     "metadata": {},
     "output_type": "execute_result"
    }
   ],
   "source": [
    "int_simpson, h2 = simpson(f, 0, 4, 6)\n",
    "int_simpson"
   ]
  },
  {
   "cell_type": "code",
   "execution_count": 70,
   "id": "a2c39aca-7508-4914-b193-b2acada0e931",
   "metadata": {},
   "outputs": [
    {
     "data": {
      "text/plain": [
       "0.8813735870195429"
      ]
     },
     "execution_count": 70,
     "metadata": {},
     "output_type": "execute_result"
    }
   ],
   "source": [
    "exacta, error = integrate.quad(f, 0, 4)\n",
    "exacta"
   ]
  },
  {
   "cell_type": "markdown",
   "id": "dfa7b11f-65b0-4c6d-a963-cdea8fc4d0d2",
   "metadata": {},
   "source": [
    "El valor exacto de la integral es 0.8813735870195429, mientras que el resultado obtenido por la fórmula del Trapecio fue 0.8805548962351778 y por la regla de Simpson fue 0.8813746413156114"
   ]
  },
  {
   "cell_type": "markdown",
   "id": "c2a154e9-2705-4aed-8553-5d55665c5da6",
   "metadata": {},
   "source": [
    "### Errores de cada método"
   ]
  },
  {
   "cell_type": "code",
   "execution_count": 71,
   "id": "ab339b6b-5527-4556-ad79-0f2a35f1ecd7",
   "metadata": {},
   "outputs": [
    {
     "name": "stdout",
     "output_type": "stream",
     "text": [
      "El error obtenido para la fórmula del trapecio es 0.000928880552381457\n"
     ]
    }
   ],
   "source": [
    "err_trapecio = abs((exacta - int_trapecio)/exacta)\n",
    "print(f'El error obtenido para la fórmula del trapecio es {err_trap}')"
   ]
  },
  {
   "cell_type": "code",
   "execution_count": 72,
   "id": "852a3a9e-d822-458c-b726-89402ca9a0fa",
   "metadata": {},
   "outputs": [
    {
     "name": "stdout",
     "output_type": "stream",
     "text": [
      "El error obtenido para la fórmula de simpson es 1.1961965776772154e-06\n"
     ]
    }
   ],
   "source": [
    "err_simpson = abs((exacta - int_simpson)/exacta)\n",
    "print(f'El error obtenido para la fórmula de simpson es {err_simp}')"
   ]
  },
  {
   "cell_type": "code",
   "execution_count": 73,
   "id": "c37fcda5-1552-4846-a52a-18c0c600c295",
   "metadata": {},
   "outputs": [
    {
     "data": {
      "text/plain": [
       "<matplotlib.legend.Legend at 0x1a44dd71070>"
      ]
     },
     "execution_count": 73,
     "metadata": {},
     "output_type": "execute_result"
    },
    {
     "data": {
      "image/png": "[encoded data removed]",
      "text/plain": [
       "<Figure size 432x288 with 1 Axes>"
      ]
     },
     "metadata": {
      "needs_background": "light"
     },
     "output_type": "display_data"
    }
   ],
   "source": [
    "x = np.linspace(0, 100, 100)\n",
    "plt.plot(h1, err_trapecio, 'o', label='Error trapecio')\n",
    "plt.plot(h2, err_simpson, 'x', label='Error simpson', color='red')\n",
    "plt.legend()"
   ]
  },
  {
   "cell_type": "markdown",
   "id": "ec743365-ec2c-4cf1-a372-e15ad38a2c03",
   "metadata": {},
   "source": [
    "El error para la fórmula del trapecio está dado por: \n",
    "$$\n",
    "\\frac{h^2 (b-a)}{12}f''(\\mu)\n",
    "$$\n",
    "\n",
    "$$\n",
    "\\frac{(4-0)^2 (4-0)}{6^2\\cdot 12}f''(\\mu) \\approx 0.14\\cdot f''(\\mu)\n",
    "$$"
   ]
  },
  {
   "cell_type": "markdown",
   "id": "6c137419-bc06-47ab-abac-099e31c7c242",
   "metadata": {},
   "source": [
    "El error para la fórmula de Simpson está dado por: \n",
    "$$\n",
    "\\frac{h^4 (b-a)}{180}f''(\\mu)\n",
    "$$\n",
    "\n",
    "$$\n",
    "\\frac{(4-0)^4 (4-0)}{6^4\\cdot 180}f''(\\mu) \\approx 0.00439 \\cdot f''(\\mu)\n",
    "$$"
   ]
  },
  {
   "cell_type": "markdown",
   "id": "46aa2eaa-490a-4d15-bda4-74463367f9d1",
   "metadata": {},
   "source": [
    "Podemos observar que la constante que acompaña a $f''(\\mu)$ en la fórmula del trapecio, es un valor grande en comparación a la constante de la fórmula de Simpson, lo que concuerda con los resultados obtenidos en los errores relativos de cada método, ya que cualquiera sea el valor que tome $f''(\\mu)$, aún así el error de simpson seguirá siendo menor al del método del trapecio."
   ]
  },
  {
   "cell_type": "code",
   "execution_count": null,
   "id": "c10c586a-19f3-41ed-81a3-02afd644aa23",
   "metadata": {},
   "outputs": [],
   "source": []
  }
 ],
 "metadata": {
  "kernelspec": {
   "display_name": "Python 3",
   "language": "python",
   "name": "python3"
  },
  "language_info": {
   "codemirror_mode": {
    "name": "ipython",
    "version": 3
   },
   "file_extension": ".py",
   "mimetype": "text/x-python",
   "name": "python",
   "nbconvert_exporter": "python",
   "pygments_lexer": "ipython3",
   "version": "3.8.8"
  }
 },
 "nbformat": 4,
 "nbformat_minor": 5
}
