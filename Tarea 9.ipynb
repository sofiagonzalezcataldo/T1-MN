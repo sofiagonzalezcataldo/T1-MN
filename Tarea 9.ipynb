{
 "cells": [
  {
   "cell_type": "markdown",
   "id": "b05ea5c0-c16b-412b-a31e-cd9661e0a09f",
   "metadata": {},
   "source": [
    "# Tarea 9"
   ]
  },
  {
   "cell_type": "markdown",
   "id": "66bf2971-60d6-462c-a385-116301102c6b",
   "metadata": {},
   "source": [
    "### Sofía González Cataldo, rut 20.921.915-8"
   ]
  },
  {
   "cell_type": "markdown",
   "id": "821a4e48-8805-47d2-9dc3-931236f0f270",
   "metadata": {},
   "source": [
    "Use el método compuesto de Simpson y el método compuesto del trapecio para encontrar la siguiente integral\n",
    "\n",
    "$$\n",
    "\\int_0^4 \\frac{dx}{\\sqrt{x^2 + 16}}\n",
    "$$\n",
    "\n",
    "Compare con el resultado exacto para obtener el error cometido. Grafique el error en función de $h$ para ambos métodos y compare con las fórmulas de error."
   ]
  },
  {
   "cell_type": "code",
   "execution_count": 102,
   "id": "0f24a6e6-68fe-4aa0-bea5-6d6a7c77fa12",
   "metadata": {},
   "outputs": [],
   "source": [
    "import numpy as np\n",
    "import matplotlib.pyplot as plt\n",
    "from scipy import integrate"
   ]
  },
  {
   "cell_type": "code",
   "execution_count": 103,
   "id": "d615a2e1-17b1-4e8e-8d95-719a640585e5",
   "metadata": {},
   "outputs": [],
   "source": [
    "def f(x):\n",
    "    '''\n",
    "    Función requerida para el problema.\n",
    "    '''\n",
    "    return 1/np.sqrt(x**2 + 16)"
   ]
  },
  {
   "cell_type": "markdown",
   "id": "f3ba2532-2f9e-40bc-9a76-e3ae47c8ec11",
   "metadata": {},
   "source": [
    "$$\n",
    "\\int_a^b dx\\,f(x) = \\frac{h}{2}\\left[f(a) + 2\\sum_{i=1}^{n-1} f(x_i) + f(b)\\right]- \\frac{h^2 (b-a)}{12}f''(\\mu)\n",
    "$$"
   ]
  },
  {
   "cell_type": "code",
   "execution_count": 104,
   "id": "12e56d08-475f-478e-ae60-48cc4617ab56",
   "metadata": {},
   "outputs": [],
   "source": [
    "# Fórmula compuesta del trapecio\n",
    "def trapecio(f, a, b, n):\n",
    "    '''\n",
    "    Función que aproxima la integral con la fórmula compuesta del trapecio.\n",
    "    '''\n",
    "    h = (b - a)/n\n",
    "    xi = [a + i*h for i in range(1, n)] # x_i\n",
    "    fx = [f(x) for x in xi] # f(x_i)\n",
    "    return (h/2)*(f(a) + 2*sum(fx) + f(b)), h"
   ]
  },
  {
   "cell_type": "code",
   "execution_count": 105,
   "id": "e2d14ab7-0a1e-4907-8b32-4284703fccd4",
   "metadata": {},
   "outputs": [
    {
     "data": {
      "text/plain": [
       "0.8805548962351778"
      ]
     },
     "execution_count": 105,
     "metadata": {},
     "output_type": "execute_result"
    }
   ],
   "source": [
    "int_trapecio, ht = trapecio(f, 0, 4, 6)\n",
    "int_trapecio"
   ]
  },
  {
   "cell_type": "markdown",
   "id": "6b2e4b59-9b19-4239-be51-0a89edc6e77a",
   "metadata": {},
   "source": [
    "$$\n",
    "\\int_a^b dx\\,f(x) = \\frac{h}{3}\\left[f(a) + 2\\sum_{i=1}^{n/2-1} f(x_{2i}) + 4\\sum_{i=1}^{n/2} f(x_{2i-1}) + f(b)\\right]- \\frac{h^4 (b-a)}{180}f''(\\mu)\n",
    "$$"
   ]
  },
  {
   "cell_type": "code",
   "execution_count": 106,
   "id": "0d8f7221-b7ad-4019-9fc5-47e76668015e",
   "metadata": {},
   "outputs": [],
   "source": [
    "# Fórmula compuesta de Simpson\n",
    "def simpson(f, a, b, n):\n",
    "    '''\n",
    "    Función que aproxima la integral con la fórmula compuesta de simpson.\n",
    "    '''\n",
    "    h = (b - a)/n\n",
    "    xi = [a + 2*i*h for i in range(1, int((n/2) - 1) + 1)] # x_2i \n",
    "    xj = [a + (2*i - 1)*h for i in range(1, int((n/2) + 1))] # x_(2i-1)\n",
    "    fxi = [f(x) for x in xi] # términos f(x_2i)\n",
    "    fxj = [f(x) for x in xj] # términos f(x_(2i-1))\n",
    "    return (h/3)*(f(a) + 2*sum(fxi) + 4*sum(fxj) + f(b)), h"
   ]
  },
  {
   "cell_type": "code",
   "execution_count": 107,
   "id": "3c7e4ef1-2bab-4511-b88e-edd8945c6b1c",
   "metadata": {},
   "outputs": [
    {
     "data": {
      "text/plain": [
       "0.8813746413156114"
      ]
     },
     "execution_count": 107,
     "metadata": {},
     "output_type": "execute_result"
    }
   ],
   "source": [
    "int_simpson, hs = simpson(f, 0, 4, 6)\n",
    "int_simpson"
   ]
  },
  {
   "cell_type": "code",
   "execution_count": 108,
   "id": "a2c39aca-7508-4914-b193-b2acada0e931",
   "metadata": {},
   "outputs": [
    {
     "data": {
      "text/plain": [
       "0.8813735870195429"
      ]
     },
     "execution_count": 108,
     "metadata": {},
     "output_type": "execute_result"
    }
   ],
   "source": [
    "# Valor exacto de la integral\n",
    "exacta, error = integrate.quad(f, 0, 4)\n",
    "exacta"
   ]
  },
  {
   "cell_type": "markdown",
   "id": "dfa7b11f-65b0-4c6d-a963-cdea8fc4d0d2",
   "metadata": {},
   "source": [
    "El valor exacto de la integral es 0.8813735870195429, mientras que el resultado obtenido por la fórmula del Trapecio fue 0.8805548962351778 y por la regla de Simpson fue 0.8813746413156114."
   ]
  },
  {
   "cell_type": "markdown",
   "id": "c2a154e9-2705-4aed-8553-5d55665c5da6",
   "metadata": {},
   "source": [
    "### Errores de cada método"
   ]
  },
  {
   "cell_type": "markdown",
   "id": "135343bc-3c9c-41aa-9845-662371584fa4",
   "metadata": {},
   "source": [
    "Ahora queremos estudiar los errores de cada método, y analizar si coincide con las fórmulas que son presentadas en las aproximaciones."
   ]
  },
  {
   "cell_type": "code",
   "execution_count": 109,
   "id": "966ad4b7-68ce-4b59-b96c-6d9bc704cd74",
   "metadata": {},
   "outputs": [],
   "source": [
    "# Modificamos h, y a la vez se modificará el valor de la integral\n",
    "# Generamos un array con ambos valores, para el método del trapecio y simpson\n",
    "trapecios = np.array([trapecio(f, 0, 4, N) for N in range(2, 40, 2)])\n",
    "simpsons = np.array([simpson(f, 0, 4, N) for N in range(2, 40, 2 )])"
   ]
  },
  {
   "cell_type": "code",
   "execution_count": 110,
   "id": "976d0211-073c-4cc7-8231-24d513747f89",
   "metadata": {},
   "outputs": [],
   "source": [
    "# Se calcula el error para cada valor de h\n",
    "err_trap = np.array([abs(exacta - trapecios[i][0]) for i in range(19)])\n",
    "err_simp = np.array([abs(exacta - simpsons[i][0]) for i in range(19)])"
   ]
  },
  {
   "cell_type": "code",
   "execution_count": 111,
   "id": "f0d649c4-37fe-4f92-b33f-6bee0213e186",
   "metadata": {},
   "outputs": [
    {
     "data": {
      "text/plain": [
       "<matplotlib.legend.Legend at 0x1e5ac0a0ac0>"
      ]
     },
     "execution_count": 111,
     "metadata": {},
     "output_type": "execute_result"
    },
    {
     "data": {
      "image/png": "[encoded data removed]",
      "text/plain": [
       "<Figure size 432x288 with 1 Axes>"
      ]
     },
     "metadata": {
      "needs_background": "light"
     },
     "output_type": "display_data"
    }
   ],
   "source": [
    "plt.plot(trapecios[:, 1], err_trap, label='Trapecio')\n",
    "plt.plot(simpsons[:,1], err_simp, label='Simpson')\n",
    "plt.title('Gráfica de errores de métodos de\\nintegración en función de h')\n",
    "plt.legend()"
   ]
  },
  {
   "cell_type": "code",
   "execution_count": 112,
   "id": "e10503eb-2794-44a0-86fb-22e85555c73c",
   "metadata": {},
   "outputs": [
    {
     "data": {
      "text/plain": [
       "<matplotlib.legend.Legend at 0x1e5ac0a02b0>"
      ]
     },
     "execution_count": 112,
     "metadata": {},
     "output_type": "execute_result"
    },
    {
     "data": {
      "image/png": "[encoded data removed]",
      "text/plain": [
       "<Figure size 432x288 with 1 Axes>"
      ]
     },
     "metadata": {
      "needs_background": "light"
     },
     "output_type": "display_data"
    }
   ],
   "source": [
    "x = np.linspace(0, 0.4, 100)\n",
    "plt.plot(x, x**2, label='$x^2$')\n",
    "plt.plot(x, x**4, label='$x^4$')\n",
    "plt.title('Gráfica de función $x^2$ y $x^4$')\n",
    "plt.legend()"
   ]
  },
  {
   "cell_type": "markdown",
   "id": "6caec526-6255-4e47-96a0-69fbd68a892d",
   "metadata": {},
   "source": [
    "Sabemos que el error del método del trapecio se comporta como: \n",
    "\n",
    "$$\n",
    "\\frac{h^2 (b-a)}{12}f''(\\mu)\n",
    "$$\n",
    "\n",
    "Mientras que el error del método de Simpson se comporta como:\n",
    "\n",
    "$$\n",
    "\\frac{h^4 (b-a)}{180}f''(\\mu)\n",
    "$$\n"
   ]
  },
  {
   "cell_type": "markdown",
   "id": "4c674614-ad1f-4d2c-98d4-c4b248a281e4",
   "metadata": {},
   "source": [
    "De la gráfica de los errores en función de h, se observa la tendencia presentada en las fórmulas. El método del trapecio tiene un error con un crecimiento más rápido ($h^2$) mientras que el método de Simpson, tiene un error menor para el mismo h ($h^4$). Comparando con la gráfica de una función $x^2$ y $x^4$, Se observa la misma tendencia de crecimiento, obviamente con un rango de error a las gráficas originales. Por lo tanto se confirman los comportamientos de error presentados en las fórmulas."
   ]
  }
 ],
 "metadata": {
  "kernelspec": {
   "display_name": "Python 3",
   "language": "python",
   "name": "python3"
  },
  "language_info": {
   "codemirror_mode": {
    "name": "ipython",
    "version": 3
   },
   "file_extension": ".py",
   "mimetype": "text/x-python",
   "name": "python",
   "nbconvert_exporter": "python",
   "pygments_lexer": "ipython3",
   "version": "3.8.8"
  }
 },
 "nbformat": 4,
 "nbformat_minor": 5
}
